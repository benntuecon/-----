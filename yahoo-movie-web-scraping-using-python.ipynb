{
 "cells": [
  {
   "cell_type": "markdown",
   "metadata": {},
   "source": [
    "# Python 爬蟲實戰範例｜學會抓取 Yahoo奇摩最新電影\n",
    "提供給想學習 Python 爬蟲的朋友們，分享 Python 爬蟲的步驟與方法，並提供完整的程式碼，只要常透過不同主題的實戰練習，就可以駕輕就熟爬蟲技術，往後要抓取網頁資料，就能夠輕易上手\n",
    "\n",
    "網站文章：https://www.webscrapingpro.tw/yahoo-movie-web-scraping-using-python/"
   ]
  },
  {
   "cell_type": "code",
   "execution_count": 5,
   "metadata": {},
   "outputs": [],
   "source": [
    "import requests\n",
    "from bs4 import BeautifulSoup\n",
    "\n",
    "url = 'https://movies.yahoo.com.tw/movie_thisweek.html'\n",
    "response = requests.get(url=url)\n",
    "\n",
    "soup = BeautifulSoup(response.text, 'lxml')"
   ]
  },
  {
   "cell_type": "code",
   "execution_count": 2,
   "metadata": {},
   "outputs": [
    {
     "name": "stdout",
     "output_type": "stream",
     "text": [
      "海邊走走(Hope Gap) 上映日：2020-05-15 期待度：69%\n",
      "奪命隧道(The Tunnel) 上映日：2020-05-15 期待度：90%\n",
      "奇蹟救援(The Cave) 上映日：2020-05-15 期待度：96%\n",
      "誰殺了唐吉訶德(The Man Who Killed Don Quixote) 上映日：2020-05-15 期待度：88%\n",
      "白髮魔女傳(The Bride With White Hair) 上映日：2020-05-15 期待度：95%\n",
      "末代皇帝(The Last Emperor) 上映日：2020-05-15 期待度：98%\n",
      "喪屍來鬥陣(Zombie Fighter) 上映日：2020-05-15 期待度：25%\n",
      "天氣之子(Weathering with You) 上映日：2020-05-15 期待度：64%\n",
      "來自深淵 深沉靈魂的黎明  4DX/MX4D(MADE IN ABYSS - Dawn of the Deep Soul 4DX/MX4D) 上映日：2020-05-15 期待度：97%\n",
      "葉問4：完結篇(IP MAN 4) 上映日：2020-05-15 期待度：44%\n"
     ]
    }
   ],
   "source": [
    "info_items = soup.find_all('div', 'release_info')\n",
    "\n",
    "for item in info_items:\n",
    "    name = item.find('div', 'release_movie_name').a.text.strip()\n",
    "    english_name = item.find('div', 'en').a.text.strip()\n",
    "    release_time = item.find('div', 'release_movie_time').text.split('：')[-1].strip()\n",
    "    level = item.find('div', 'leveltext').span.text.strip()\n",
    "    \n",
    "    print('{}({}) 上映日：{} 期待度：{}'.format(name, english_name, release_time, level))"
   ]
  },
  {
   "cell_type": "code",
   "execution_count": 3,
   "metadata": {},
   "outputs": [],
   "source": [
    "import csv\n",
    "\n",
    "info_items = soup.find_all('div', 'release_info')\n",
    "\n",
    "with open('本週新片.csv', 'w', encoding='utf-8', newline='') as csv_file:\n",
    "    \n",
    "    csv_writer = csv.writer(csv_file)\n",
    "    csv_writer.writerow(['電影片名', '電影英文片名', '上映時間', '網友期待度'])\n",
    "\n",
    "    for item in info_items:\n",
    "\n",
    "        name = item.find('div', 'release_movie_name').a.text.strip()\n",
    "        english_name = item.find('div', 'en').a.text.strip()\n",
    "        release_time = item.find('div', 'release_movie_time').text.split('：')[-1].strip()\n",
    "        level = item.find('div', 'leveltext').span.text.strip()\n",
    "        \n",
    "        csv_writer.writerow([name, english_name, release_time, level])"
   ]
  },
  {
   "cell_type": "markdown",
   "metadata": {},
   "source": [
    "## 完整的程式碼如下"
   ]
  },
  {
   "cell_type": "code",
   "execution_count": 4,
   "metadata": {},
   "outputs": [
    {
     "name": "stdout",
     "output_type": "stream",
     "text": [
      "海邊走走(Hope Gap) 上映日：2020-05-15 期待度：69%\n",
      "奪命隧道(The Tunnel) 上映日：2020-05-15 期待度：90%\n",
      "奇蹟救援(The Cave) 上映日：2020-05-15 期待度：96%\n",
      "誰殺了唐吉訶德(The Man Who Killed Don Quixote) 上映日：2020-05-15 期待度：88%\n",
      "白髮魔女傳(The Bride With White Hair) 上映日：2020-05-15 期待度：95%\n",
      "末代皇帝(The Last Emperor) 上映日：2020-05-15 期待度：98%\n",
      "喪屍來鬥陣(Zombie Fighter) 上映日：2020-05-15 期待度：25%\n",
      "天氣之子(Weathering with You) 上映日：2020-05-15 期待度：64%\n",
      "來自深淵 深沉靈魂的黎明  4DX/MX4D(MADE IN ABYSS - Dawn of the Deep Soul 4DX/MX4D) 上映日：2020-05-15 期待度：97%\n",
      "葉問4：完結篇(IP MAN 4) 上映日：2020-05-15 期待度：44%\n"
     ]
    }
   ],
   "source": [
    "import csv\n",
    "import requests\n",
    "from bs4 import BeautifulSoup\n",
    "\n",
    "url = 'https://movies.yahoo.com.tw/movie_thisweek.html'\n",
    "response = requests.get(url=url)\n",
    "\n",
    "soup = BeautifulSoup(response.text, 'lxml')\n",
    "\n",
    "info_items = soup.find_all('div', 'release_info')\n",
    "\n",
    "with open('本週新片.csv', 'w', encoding='utf-8', newline='') as csv_file:\n",
    "    \n",
    "    csv_writer = csv.writer(csv_file)\n",
    "    csv_writer.writerow(['電影片名', '電影英文片名', '上映時間', '網友期待度'])\n",
    "\n",
    "    for item in info_items:\n",
    "\n",
    "        name = item.find('div', 'release_movie_name').a.text.strip()\n",
    "        english_name = item.find('div', 'en').a.text.strip()\n",
    "        release_time = item.find('div', 'release_movie_time').text.split('：')[-1].strip()\n",
    "        level = item.find('div', 'leveltext').span.text.strip()\n",
    "        \n",
    "        csv_writer.writerow([name, english_name, release_time, level])\n",
    "        print('{}({}) 上映日：{} 期待度：{}'.format(name, english_name, release_time, level))"
   ]
  },
  {
   "cell_type": "code",
   "execution_count": null,
   "metadata": {},
   "outputs": [],
   "source": []
  }
 ],
 "metadata": {
  "kernelspec": {
   "display_name": "Python 3",
   "language": "python",
   "name": "python3"
  },
  "language_info": {
   "codemirror_mode": {
    "name": "ipython",
    "version": 3
   },
   "file_extension": ".py",
   "mimetype": "text/x-python",
   "name": "python",
   "nbconvert_exporter": "python",
   "pygments_lexer": "ipython3",
   "version": "3.7.4"
  }
 },
 "nbformat": 4,
 "nbformat_minor": 2
}
